{
 "cells": [
  {
   "cell_type": "markdown",
   "id": "f1699b1e-4751-4b09-a8f0-449ea28bddbb",
   "metadata": {},
   "source": [
    "# Match halo id from catelog.h5 to its corresponding pRedshiftOutput????_fesc_halos.h5 file\n"
   ]
  },
  {
   "cell_type": "code",
   "execution_count": 2,
   "id": "e8c03c93-3087-4c5d-b2e1-57858da35d69",
   "metadata": {},
   "outputs": [],
   "source": [
    "%matplotlib inline\n",
    "import matplotlib.pyplot as plt\n",
    "import numpy as np\n",
    "import h5py as h5\n",
    "import yt\n",
    "import pickle\n",
    "import os\n",
    "import math"
   ]
  },
  {
   "cell_type": "code",
   "execution_count": 1,
   "id": "01975cb3",
   "metadata": {},
   "outputs": [
    {
     "ename": "ImportError",
     "evalue": "cannot import name 'validate_index_order' from 'yt.data_objects.static_output' (/storage/home/hcoda1/9/bsherwin6/.local/lib/python3.9/site-packages/yt/data_objects/static_output.py)",
     "output_type": "error",
     "traceback": [
      "\u001b[0;31m---------------------------------------------------------------------------\u001b[0m",
      "\u001b[0;31mImportError\u001b[0m                               Traceback (most recent call last)",
      "Input \u001b[0;32mIn [1]\u001b[0m, in \u001b[0;36m<cell line: 1>\u001b[0;34m()\u001b[0m\n\u001b[0;32m----> 1\u001b[0m \u001b[38;5;28;01mimport\u001b[39;00m \u001b[38;5;21;01mytree\u001b[39;00m\n",
      "File \u001b[0;32m~/.local/lib/python3.9/site-packages/ytree/__init__.py:17\u001b[0m, in \u001b[0;36m<module>\u001b[0;34m\u001b[0m\n\u001b[1;32m      8\u001b[0m \u001b[38;5;66;03m#-----------------------------------------------------------------------------\u001b[39;00m\n\u001b[1;32m      9\u001b[0m \u001b[38;5;66;03m# Copyright (c) ytree development team. All rights reserved.\u001b[39;00m\n\u001b[1;32m     10\u001b[0m \u001b[38;5;66;03m#\u001b[39;00m\n\u001b[0;32m   (...)\u001b[0m\n\u001b[1;32m     13\u001b[0m \u001b[38;5;66;03m# The full license is in the file COPYING.txt, distributed with this software.\u001b[39;00m\n\u001b[1;32m     14\u001b[0m \u001b[38;5;66;03m#-----------------------------------------------------------------------------\u001b[39;00m\n\u001b[1;32m     16\u001b[0m \u001b[38;5;28;01mfrom\u001b[39;00m \u001b[38;5;21;01mytree\u001b[39;00m\u001b[38;5;21;01m.\u001b[39;00m\u001b[38;5;21;01manalysis\u001b[39;00m\u001b[38;5;21;01m.\u001b[39;00m\u001b[38;5;21;01manalysis_pipeline\u001b[39;00m \u001b[38;5;28;01mimport\u001b[39;00m AnalysisPipeline\n\u001b[0;32m---> 17\u001b[0m \u001b[38;5;28;01mfrom\u001b[39;00m \u001b[38;5;21;01mytree\u001b[39;00m\u001b[38;5;21;01m.\u001b[39;00m\u001b[38;5;21;01mdata_structures\u001b[39;00m\u001b[38;5;21;01m.\u001b[39;00m\u001b[38;5;21;01mload\u001b[39;00m \u001b[38;5;28;01mimport\u001b[39;00m \\\n\u001b[1;32m     18\u001b[0m     load\n\u001b[1;32m     19\u001b[0m \u001b[38;5;28;01mfrom\u001b[39;00m \u001b[38;5;21;01mytree\u001b[39;00m\u001b[38;5;21;01m.\u001b[39;00m\u001b[38;5;21;01mdata_structures\u001b[39;00m\u001b[38;5;21;01m.\u001b[39;00m\u001b[38;5;21;01mtree_node_selector\u001b[39;00m \u001b[38;5;28;01mimport\u001b[39;00m \\\n\u001b[1;32m     20\u001b[0m     TreeNodeSelector, \\\n\u001b[1;32m     21\u001b[0m     add_tree_node_selector\n\u001b[1;32m     22\u001b[0m \u001b[38;5;28;01mfrom\u001b[39;00m \u001b[38;5;21;01mytree\u001b[39;00m\u001b[38;5;21;01m.\u001b[39;00m\u001b[38;5;21;01mvisualization\u001b[39;00m\u001b[38;5;21;01m.\u001b[39;00m\u001b[38;5;21;01mtree_plot\u001b[39;00m \u001b[38;5;28;01mimport\u001b[39;00m \\\n\u001b[1;32m     23\u001b[0m     TreePlot\n",
      "File \u001b[0;32m~/.local/lib/python3.9/site-packages/ytree/data_structures/__init__.py:17\u001b[0m, in \u001b[0;36m<module>\u001b[0;34m\u001b[0m\n\u001b[1;32m      8\u001b[0m \u001b[38;5;66;03m#-----------------------------------------------------------------------------\u001b[39;00m\n\u001b[1;32m      9\u001b[0m \u001b[38;5;66;03m# Copyright (c) ytree development team. All rights reserved.\u001b[39;00m\n\u001b[1;32m     10\u001b[0m \u001b[38;5;66;03m#\u001b[39;00m\n\u001b[0;32m   (...)\u001b[0m\n\u001b[1;32m     13\u001b[0m \u001b[38;5;66;03m# The full license is in the file COPYING.txt, distributed with this software.\u001b[39;00m\n\u001b[1;32m     14\u001b[0m \u001b[38;5;66;03m#-----------------------------------------------------------------------------\u001b[39;00m\n\u001b[1;32m     16\u001b[0m \u001b[38;5;28;01mfrom\u001b[39;00m \u001b[38;5;21;01mytree\u001b[39;00m\u001b[38;5;21;01m.\u001b[39;00m\u001b[38;5;21;01mfrontends\u001b[39;00m\u001b[38;5;21;01m.\u001b[39;00m\u001b[38;5;21;01mapi\u001b[39;00m \u001b[38;5;28;01mimport\u001b[39;00m _frontend_container\n\u001b[0;32m---> 17\u001b[0m frontends \u001b[38;5;241m=\u001b[39m \u001b[43m_frontend_container\u001b[49m\u001b[43m(\u001b[49m\u001b[43m)\u001b[49m\n",
      "File \u001b[0;32m~/.local/lib/python3.9/site-packages/ytree/frontends/api.py:36\u001b[0m, in \u001b[0;36m_frontend_container.__init__\u001b[0;34m(self)\u001b[0m\n\u001b[1;32m     34\u001b[0m \u001b[38;5;28;01mfor\u001b[39;00m frontend \u001b[38;5;129;01min\u001b[39;00m _frontends:\n\u001b[1;32m     35\u001b[0m     _mod \u001b[38;5;241m=\u001b[39m \u001b[38;5;124mf\u001b[39m\u001b[38;5;124m\"\u001b[39m\u001b[38;5;124mytree.frontends.\u001b[39m\u001b[38;5;132;01m{\u001b[39;00mfrontend\u001b[38;5;132;01m}\u001b[39;00m\u001b[38;5;124m\"\u001b[39m\n\u001b[0;32m---> 36\u001b[0m     \u001b[38;5;28msetattr\u001b[39m(\u001b[38;5;28mself\u001b[39m, frontend, \u001b[43mimportlib\u001b[49m\u001b[38;5;241;43m.\u001b[39;49m\u001b[43mimport_module\u001b[49m\u001b[43m(\u001b[49m\u001b[43m_mod\u001b[49m\u001b[43m)\u001b[49m)\n\u001b[1;32m     37\u001b[0m \u001b[38;5;28msetattr\u001b[39m(\u001b[38;5;28mself\u001b[39m, \u001b[38;5;124m'\u001b[39m\u001b[38;5;124mapi\u001b[39m\u001b[38;5;124m'\u001b[39m, importlib\u001b[38;5;241m.\u001b[39mimport_module(\u001b[38;5;124m'\u001b[39m\u001b[38;5;124mytree.frontends.api\u001b[39m\u001b[38;5;124m'\u001b[39m))\n\u001b[1;32m     38\u001b[0m \u001b[38;5;28msetattr\u001b[39m(\u001b[38;5;28mself\u001b[39m, \u001b[38;5;124m'\u001b[39m\u001b[38;5;124m__name__\u001b[39m\u001b[38;5;124m'\u001b[39m, \u001b[38;5;124m'\u001b[39m\u001b[38;5;124mytree.frontends.api\u001b[39m\u001b[38;5;124m'\u001b[39m)\n",
      "File \u001b[0;32m/usr/local/pace-apps/manual/packages/anaconda3/2022.05/lib/python3.9/importlib/__init__.py:127\u001b[0m, in \u001b[0;36mimport_module\u001b[0;34m(name, package)\u001b[0m\n\u001b[1;32m    125\u001b[0m             \u001b[38;5;28;01mbreak\u001b[39;00m\n\u001b[1;32m    126\u001b[0m         level \u001b[38;5;241m+\u001b[39m\u001b[38;5;241m=\u001b[39m \u001b[38;5;241m1\u001b[39m\n\u001b[0;32m--> 127\u001b[0m \u001b[38;5;28;01mreturn\u001b[39;00m \u001b[43m_bootstrap\u001b[49m\u001b[38;5;241;43m.\u001b[39;49m\u001b[43m_gcd_import\u001b[49m\u001b[43m(\u001b[49m\u001b[43mname\u001b[49m\u001b[43m[\u001b[49m\u001b[43mlevel\u001b[49m\u001b[43m:\u001b[49m\u001b[43m]\u001b[49m\u001b[43m,\u001b[49m\u001b[43m \u001b[49m\u001b[43mpackage\u001b[49m\u001b[43m,\u001b[49m\u001b[43m \u001b[49m\u001b[43mlevel\u001b[49m\u001b[43m)\u001b[49m\n",
      "File \u001b[0;32m~/.local/lib/python3.9/site-packages/ytree/frontends/ytree/__init__.py:16\u001b[0m, in \u001b[0;36m<module>\u001b[0;34m\u001b[0m\n\u001b[1;32m      1\u001b[0m \u001b[38;5;124;03m\"\"\"\u001b[39;00m\n\u001b[1;32m      2\u001b[0m \u001b[38;5;124;03mytree frontend\u001b[39;00m\n\u001b[1;32m      3\u001b[0m \n\u001b[1;32m      4\u001b[0m \n\u001b[1;32m      5\u001b[0m \n\u001b[1;32m      6\u001b[0m \u001b[38;5;124;03m\"\"\"\u001b[39;00m\n\u001b[1;32m      8\u001b[0m \u001b[38;5;66;03m#-----------------------------------------------------------------------------\u001b[39;00m\n\u001b[1;32m      9\u001b[0m \u001b[38;5;66;03m# Copyright (c) ytree development team. All rights reserved.\u001b[39;00m\n\u001b[1;32m     10\u001b[0m \u001b[38;5;66;03m#\u001b[39;00m\n\u001b[0;32m   (...)\u001b[0m\n\u001b[1;32m     13\u001b[0m \u001b[38;5;66;03m# The full license is in the file COPYING.txt, distributed with this software.\u001b[39;00m\n\u001b[1;32m     14\u001b[0m \u001b[38;5;66;03m#-----------------------------------------------------------------------------\u001b[39;00m\n\u001b[0;32m---> 16\u001b[0m \u001b[38;5;28;01mfrom\u001b[39;00m \u001b[38;5;21;01mytree\u001b[39;00m\u001b[38;5;21;01m.\u001b[39;00m\u001b[38;5;21;01mfrontends\u001b[39;00m\u001b[38;5;21;01m.\u001b[39;00m\u001b[38;5;21;01mytree\u001b[39;00m\u001b[38;5;21;01m.\u001b[39;00m\u001b[38;5;21;01marbor\u001b[39;00m \u001b[38;5;28;01mimport\u001b[39;00m \\\n\u001b[1;32m     17\u001b[0m     YTreeArbor\n",
      "File \u001b[0;32m~/.local/lib/python3.9/site-packages/ytree/frontends/ytree/arbor.py:43\u001b[0m, in \u001b[0;36m<module>\u001b[0;34m\u001b[0m\n\u001b[1;32m     38\u001b[0m \u001b[38;5;28;01mfrom\u001b[39;00m \u001b[38;5;21;01mytree\u001b[39;00m\u001b[38;5;21;01m.\u001b[39;00m\u001b[38;5;21;01mutilities\u001b[39;00m\u001b[38;5;21;01m.\u001b[39;00m\u001b[38;5;21;01mio\u001b[39;00m \u001b[38;5;28;01mimport\u001b[39;00m \\\n\u001b[1;32m     39\u001b[0m     _hdf5_yt_attr, \\\n\u001b[1;32m     40\u001b[0m     parse_h5_attr\n\u001b[1;32m     41\u001b[0m \u001b[38;5;28;01mfrom\u001b[39;00m \u001b[38;5;21;01mytree\u001b[39;00m\u001b[38;5;21;01m.\u001b[39;00m\u001b[38;5;21;01mutilities\u001b[39;00m\u001b[38;5;21;01m.\u001b[39;00m\u001b[38;5;21;01mlogger\u001b[39;00m \u001b[38;5;28;01mimport\u001b[39;00m \\\n\u001b[1;32m     42\u001b[0m     log_level\n\u001b[0;32m---> 43\u001b[0m \u001b[38;5;28;01mfrom\u001b[39;00m \u001b[38;5;21;01mytree\u001b[39;00m\u001b[38;5;21;01m.\u001b[39;00m\u001b[38;5;21;01myt_frontend\u001b[39;00m \u001b[38;5;28;01mimport\u001b[39;00m \\\n\u001b[1;32m     44\u001b[0m     YTreeDataset\n\u001b[1;32m     46\u001b[0m \u001b[38;5;28;01mclass\u001b[39;00m \u001b[38;5;21;01mYTreeArbor\u001b[39;00m(Arbor):\n\u001b[1;32m     47\u001b[0m     \u001b[38;5;124;03m\"\"\"\u001b[39;00m\n\u001b[1;32m     48\u001b[0m \u001b[38;5;124;03m    Class for Arbors created from the\u001b[39;00m\n\u001b[1;32m     49\u001b[0m \u001b[38;5;124;03m    :func:`~ytree.data_structures.arbor.Arbor.save_arbor`\u001b[39;00m\n\u001b[1;32m     50\u001b[0m \u001b[38;5;124;03m    or :func:`~ytree.data_structures.tree_node.TreeNode.save_tree` functions.\u001b[39;00m\n\u001b[1;32m     51\u001b[0m \u001b[38;5;124;03m    \"\"\"\u001b[39;00m\n",
      "File \u001b[0;32m~/.local/lib/python3.9/site-packages/ytree/yt_frontend/__init__.py:17\u001b[0m, in \u001b[0;36m<module>\u001b[0;34m\u001b[0m\n\u001b[1;32m      1\u001b[0m \u001b[38;5;124;03m\"\"\"\u001b[39;00m\n\u001b[1;32m      2\u001b[0m \u001b[38;5;124;03mytree frontend.\u001b[39;00m\n\u001b[1;32m      3\u001b[0m \n\u001b[0;32m   (...)\u001b[0m\n\u001b[1;32m      6\u001b[0m \n\u001b[1;32m      7\u001b[0m \u001b[38;5;124;03m\"\"\"\u001b[39;00m\n\u001b[1;32m      9\u001b[0m \u001b[38;5;66;03m#-----------------------------------------------------------------------------\u001b[39;00m\n\u001b[1;32m     10\u001b[0m \u001b[38;5;66;03m# Copyright (c) ytree Development Team. All rights reserved.\u001b[39;00m\n\u001b[1;32m     11\u001b[0m \u001b[38;5;66;03m#\u001b[39;00m\n\u001b[0;32m   (...)\u001b[0m\n\u001b[1;32m     14\u001b[0m \u001b[38;5;66;03m# The full license is in the file COPYING.txt, distributed with this software.\u001b[39;00m\n\u001b[1;32m     15\u001b[0m \u001b[38;5;66;03m#-----------------------------------------------------------------------------\u001b[39;00m\n\u001b[0;32m---> 17\u001b[0m \u001b[38;5;28;01mfrom\u001b[39;00m \u001b[38;5;21;01mytree\u001b[39;00m\u001b[38;5;21;01m.\u001b[39;00m\u001b[38;5;21;01myt_frontend\u001b[39;00m\u001b[38;5;21;01m.\u001b[39;00m\u001b[38;5;21;01mdata_structures\u001b[39;00m \u001b[38;5;28;01mimport\u001b[39;00m YTreeDataset\n\u001b[1;32m     18\u001b[0m \u001b[38;5;28;01mfrom\u001b[39;00m \u001b[38;5;21;01mytree\u001b[39;00m\u001b[38;5;21;01m.\u001b[39;00m\u001b[38;5;21;01myt_frontend\u001b[39;00m\u001b[38;5;21;01m.\u001b[39;00m\u001b[38;5;21;01mio\u001b[39;00m \u001b[38;5;28;01mimport\u001b[39;00m IOHandlerYTreeHDF5\n",
      "File \u001b[0;32m~/.local/lib/python3.9/site-packages/ytree/yt_frontend/data_structures.py:22\u001b[0m, in \u001b[0;36m<module>\u001b[0;34m\u001b[0m\n\u001b[1;32m     19\u001b[0m \u001b[38;5;28;01mimport\u001b[39;00m \u001b[38;5;21;01mjson\u001b[39;00m\n\u001b[1;32m     20\u001b[0m \u001b[38;5;28;01mimport\u001b[39;00m \u001b[38;5;21;01mos\u001b[39;00m\n\u001b[0;32m---> 22\u001b[0m \u001b[38;5;28;01mfrom\u001b[39;00m \u001b[38;5;21;01myt\u001b[39;00m\u001b[38;5;21;01m.\u001b[39;00m\u001b[38;5;21;01mdata_objects\u001b[39;00m\u001b[38;5;21;01m.\u001b[39;00m\u001b[38;5;21;01mstatic_output\u001b[39;00m \u001b[38;5;28;01mimport\u001b[39;00m \\\n\u001b[1;32m     23\u001b[0m     ParticleFile, \\\n\u001b[1;32m     24\u001b[0m     validate_index_order\n\u001b[1;32m     25\u001b[0m \u001b[38;5;28;01mfrom\u001b[39;00m \u001b[38;5;21;01myt\u001b[39;00m\u001b[38;5;21;01m.\u001b[39;00m\u001b[38;5;21;01mfrontends\u001b[39;00m\u001b[38;5;21;01m.\u001b[39;00m\u001b[38;5;21;01mytdata\u001b[39;00m\u001b[38;5;21;01m.\u001b[39;00m\u001b[38;5;21;01mdata_structures\u001b[39;00m \u001b[38;5;28;01mimport\u001b[39;00m \\\n\u001b[1;32m     26\u001b[0m     SavedDataset\n\u001b[1;32m     27\u001b[0m \u001b[38;5;28;01mfrom\u001b[39;00m \u001b[38;5;21;01myt\u001b[39;00m\u001b[38;5;21;01m.\u001b[39;00m\u001b[38;5;21;01mgeometry\u001b[39;00m\u001b[38;5;21;01m.\u001b[39;00m\u001b[38;5;21;01mparticle_geometry_handler\u001b[39;00m \u001b[38;5;28;01mimport\u001b[39;00m \\\n\u001b[1;32m     28\u001b[0m     ParticleIndex\n",
      "\u001b[0;31mImportError\u001b[0m: cannot import name 'validate_index_order' from 'yt.data_objects.static_output' (/storage/home/hcoda1/9/bsherwin6/.local/lib/python3.9/site-packages/yt/data_objects/static_output.py)"
     ]
    }
   ],
   "source": [
    "import ytree"
   ]
  },
  {
   "cell_type": "code",
   "execution_count": 14,
   "id": "aa5ccf23-0b0b-46da-a438-cf7254b9e607",
   "metadata": {},
   "outputs": [
    {
     "ename": "NameError",
     "evalue": "name 'ytree' is not defined",
     "output_type": "error",
     "traceback": [
      "\u001b[0;31m---------------------------------------------------------------------------\u001b[0m",
      "\u001b[0;31mNameError\u001b[0m                                 Traceback (most recent call last)",
      "Input \u001b[0;32mIn [14]\u001b[0m, in \u001b[0;36m<cell line: 3>\u001b[0;34m()\u001b[0m\n\u001b[1;32m      1\u001b[0m \u001b[38;5;66;03m#**********************************************************************\u001b[39;00m\n\u001b[1;32m      2\u001b[0m \u001b[38;5;66;03m# Give ytree.load the full (absolute) path to johns tree_0_0_0.dat file\u001b[39;00m\n\u001b[0;32m----> 3\u001b[0m trees \u001b[38;5;241m=\u001b[39m \u001b[43mytree\u001b[49m\u001b[38;5;241m.\u001b[39mload(\u001b[38;5;124m'\u001b[39m\u001b[38;5;124mrockstar_halos/trees/tree_0_0_0.dat\u001b[39m\u001b[38;5;124m'\u001b[39m)\n\u001b[1;32m      4\u001b[0m \u001b[38;5;66;03m#**********************************************************************\u001b[39;00m\n\u001b[1;32m      5\u001b[0m trees\u001b[38;5;241m.\u001b[39madd_alias_field(\u001b[38;5;124m'\u001b[39m\u001b[38;5;124mmass\u001b[39m\u001b[38;5;124m'\u001b[39m, \u001b[38;5;124m'\u001b[39m\u001b[38;5;124mMvir\u001b[39m\u001b[38;5;124m'\u001b[39m)\n",
      "\u001b[0;31mNameError\u001b[0m: name 'ytree' is not defined"
     ]
    }
   ],
   "source": [
    "#**********************************************************************\n",
    "# Give ytree.load the full (absolute) path to johns tree_0_0_0.dat file\n",
    "trees = ytree.load('rockstar_halos/trees/tree_0_0_0.dat')\n",
    "#**********************************************************************\n",
    "trees.add_alias_field('mass', 'Mvir')"
   ]
  },
  {
   "cell_type": "code",
   "execution_count": null,
   "id": "28523a0a-1a73-4c5c-b75c-d4124b807898",
   "metadata": {},
   "outputs": [],
   "source": [
    "mrange = [1e8, 1e10]\n",
    "halo_mmp = []\n",
    "for tree in trees:\n",
    "    if tree['mass'].in_units('Msun') < mrange[0] or tree['mass'].in_units('Msun') > mrange[1]:\n",
    "        continue\n",
    "    mmp = dict(center=[], mass=[], redshift=[], rvir=[])\n",
    "    for prog in tree.pwalk():\n",
    "        pos = yt.YTArray([prog['x'], prog['y'], prog['z']]) / trees.box_size\n",
    "        mmp['center'].append(pos)\n",
    "        mmp['mass'].append(prog['mass'].in_units('Msun'))\n",
    "        mmp['redshift'].append(prog['redshift'])\n",
    "        mmp['rvir'].append(prog['virial_radius'] / trees.box_size)\n",
    "    mmp['center'] = yt.YTArray(mmp['center'])\n",
    "    mmp['mass'] = yt.YTArray(mmp['mass'])\n",
    "    mmp['redshift'] = yt.YTArray(mmp['redshift'])\n",
    "    mmp['rvir'] = yt.YTArray(mmp['rvir'])\n",
    "    halo_mmp.append(mmp)"
   ]
  },
  {
   "cell_type": "code",
   "execution_count": null,
   "id": "896f5ae9-c26a-4649-b509-2adb70be1e01",
   "metadata": {},
   "outputs": [],
   "source": [
    "pfn = []\n",
    "redshifts = []\n",
    "\n",
    "#**********************************************************\n",
    "# Give the full (absolute) path to johns redshifts.dat file\n",
    "lines = open('redshifts.dat').readlines()\n",
    "#**********************************************************\n",
    "for l in lines:\n",
    "    pfn.append(l.split(':')[0])\n",
    "    redshifts.append(float(l.split('=')[-1]))\n",
    "\n",
    "redshifts = np.array(redshifts)\n",
    "pfn = np.array(pfn)\n",
    "isort = redshifts.argsort().astype('int')[::-1]\n",
    "redshifts = redshifts[isort]\n",
    "pfn = pfn[isort]"
   ]
  },
  {
   "cell_type": "code",
   "execution_count": null,
   "id": "221c2963-847c-4369-bb96-e0ec09ccd352",
   "metadata": {},
   "outputs": [],
   "source": [
    "\n",
    "catalog = []\n",
    "for fn in pfn:\n",
    "    entry = {}\n",
    "    #************************************************\n",
    "    # Give the full path to johns fesc-data directory \n",
    "    fp = h5.File('fesc-data/p%s_fesc_halos.h5' % (fn.split('/')[1]), 'r')\n",
    "    #************************************************    \n",
    "    nhalos = len(fp.keys())\n",
    "    if nhalos == 0:\n",
    "        catalog.append(entry)\n",
    "        fp.close()\n",
    "        continue\n",
    "    \n",
    "\n",
    "    #gp0 = fp.values()[0]\n",
    "    # avoid = ['Pop2_Stars', 'Pop3_Stars', 'fesc_bins', 'fesc_hist']\n",
    "    # vector_fields = ['center']\n",
    "    \n",
    "    # # Create empty entry\n",
    "    # for f in gp0:\n",
    "    #     if f not in avoid:\n",
    "    #         if f in vector_fields:\n",
    "    #             entry[f] = np.zeros((nhalos,3))\n",
    "    #         else:\n",
    "    #             entry[f] = np.zeros(nhalos)    \n",
    "\n",
    "    # Create empty entry (only need center and rvir)\n",
    "    entry['center'] = np.zeros((nhalos,3))\n",
    "    entry['rvir'] = np.zeros(nhalos)\n",
    "                \n",
    "    #----------------------------------------------\n",
    "    entry['filename'] = np.empty(nhalos, dtype=str)\n",
    "    #----------------------------------------------\n",
    "    \n",
    "    # # Read the data\n",
    "    # i = 0\n",
    "    # for g in fp.itervalues():\n",
    "    #     for f in g:\n",
    "    #         if f not in avoid:\n",
    "    #             entry[f][i] = g[f].value\n",
    "    #     i += 1    \n",
    "\n",
    "    # Read the data\n",
    "    i = 0\n",
    "    for g in fp.itervalues():\n",
    "        for f in g:\n",
    "            if f in ['center', 'rvir']:\n",
    "                entry[f][i] = g[f].value\n",
    "        #---------------------------------          \n",
    "        entry['filename'][i] = fp.filename \n",
    "        #---------------------------------          \n",
    "        i += 1\n",
    "                     \n",
    "    catalog.append(entry)\n",
    "    fp.close()\n"
   ]
  },
  {
   "cell_type": "code",
   "execution_count": null,
   "id": "4957468c-04f8-45ed-9955-205a79520f2d",
   "metadata": {},
   "outputs": [],
   "source": [
    "def find_nearest(array, value):\n",
    "    return np.abs(array - value).argmin()"
   ]
  },
  {
   "cell_type": "code",
   "execution_count": null,
   "id": "b1fe41e9-dcf4-4cfa-8f6f-674948a6ce60",
   "metadata": {},
   "outputs": [],
   "source": [
    "# Don't need this cuz we're not using other fields\n",
    "# fields = catalog[-1].keys()\n",
    "# fields.remove('center')\n",
    "# fields.remove('rvir')\n",
    "\n",
    "for halo in halo_mmp:\n",
    "    nnode = len(halo['redshift'])\n",
    "    # Don't need to add other fields\n",
    "    # for f in fields:\n",
    "    #     halo[f] = np.zeros(nnode)\n",
    "    #---------------------------------          \n",
    "    halo['filename'] = np.empty(nnode, dtype=str)\n",
    "    #---------------------------------          \n",
    "    \n",
    "    for inode in range(nnode):\n",
    "        ip = find_nearest(redshifts, halo['redshift'][inode])\n",
    "        \n",
    "        # dr = separation, R = radius of target halo, r = radii of all catalog halos\n",
    "        dr = np.sqrt(((halo['center'][inode] - catalog[ip]['center'])**2).sum(1))\n",
    "        R = halo['rvir'][inode]\n",
    "        r = catalog[ip]['rvir'] * (1 + redshifts[ip]) / trees.box_size.in_units('kpc').v\n",
    "        \n",
    "        # Calculate the sphere-sphere intersection. The maximum is the match.\n",
    "        # http://mathworld.wolfram.com/Sphere-SphereIntersection.html\n",
    "        vol = np.pi * (R+r-dr)**2 * (dr**2 + 2*dr*r - 3*r**2 + 2*dr*R + 6*r*R - 3*R**2) / (12*dr)\n",
    "        vol[dr > r+R] = 0.0  # No intersection\n",
    "        vol[dr < R-r] = (4*np.pi/3) * r[dr < R-r]**3  # Complete intersection\n",
    "        \n",
    "        match = vol.argmax()\n",
    "        rvir = catalog[ip]['rvir'][match] * (1 + redshifts[ip]) / trees.box_size.in_units('kpc').v\n",
    "        # Check whether separation is within the virial radius\n",
    "        if dr[match] >= rvir:\n",
    "            continue\n",
    "        # Don't need the fields, just the filename\n",
    "        # # Add halo properties to mmp history\n",
    "        # for f in fields:\n",
    "        #     halo[f][inode] = catalog[ip][f][match]\n",
    "        #---------------------------------          \n",
    "        halo['filename'][inode] = catelog[ip]['filename'][match]\n",
    "        #---------------------------------          \n",
    "        \n",
    "        \n",
    "    # # Calculate SFR (last 20 Myr) [Msun/yr]\n",
    "    # halo['SFR'] = halo['Mstar_pop2_young'] / 20e6\n",
    "    # halo['fesc'] = np.maximum(halo['fesc'], 1e-6)"
   ]
  },
  {
   "cell_type": "code",
   "execution_count": null,
   "id": "f3669424-c71d-4c14-aa36-4ceedad3cb2f",
   "metadata": {},
   "outputs": [],
   "source": [
    "fp = h5.File('catalog_filenames.h5', 'w')\n",
    "for i,halo in enumerate(halo_mmp):\n",
    "    hname = \"Halo%8.8d\" % (i)\n",
    "    gp = fp.create_group(hname)\n",
    "    for k,v in halo.items():\n",
    "        gp[k] = v\n",
    "fp.close()"
   ]
  }
 ],
 "metadata": {
  "kernelspec": {
   "display_name": "Python 3 (ipykernel)",
   "language": "python",
   "name": "python3"
  },
  "language_info": {
   "codemirror_mode": {
    "name": "ipython",
    "version": 3
   },
   "file_extension": ".py",
   "mimetype": "text/x-python",
   "name": "python",
   "nbconvert_exporter": "python",
   "pygments_lexer": "ipython3",
   "version": "3.9.12"
  }
 },
 "nbformat": 4,
 "nbformat_minor": 5
}
